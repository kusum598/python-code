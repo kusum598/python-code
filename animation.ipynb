{
 "cells": [
  {
   "cell_type": "code",
   "execution_count": 2,
   "metadata": {},
   "outputs": [
    {
     "name": "stdout",
     "output_type": "stream",
     "text": [
      "pygame 2.5.2 (SDL 2.28.3, Python 3.12.0)\n",
      "Hello from the pygame community. https://www.pygame.org/contribute.html\n"
     ]
    }
   ],
   "source": [
    "import pygame\n",
    "import sys\n",
    "\n",
    "# Initialize Pygame\n",
    "pygame.init()\n",
    "\n",
    "# Set up display\n",
    "width, height = 800, 600\n",
    "screen = pygame.display.set_mode((width, height))\n",
    "pygame.display.set_caption(\"Spear Animation\")\n",
    "\n",
    "# Colors\n",
    "white = (255, 255, 255)\n",
    "\n",
    "# Spear parameters\n",
    "spear_length = 100\n",
    "spear_thickness = 10\n",
    "spear_color = (255, 0, 0)\n",
    "spear_x = width // 2\n",
    "spear_y = height // 2\n",
    "\n",
    "# Set up clock to control the frame rate\n",
    "clock = pygame.time.Clock()\n",
    "\n",
    "# Main game loop\n",
    "while True:\n",
    "    for event in pygame.event.get():\n",
    "        if event.type == pygame.QUIT:\n",
    "            pygame.quit()\n",
    "            sys.exit()\n",
    "\n",
    "    # Clear the screen\n",
    "    screen.fill(white)\n",
    "\n",
    "    # Draw spear\n",
    "    pygame.draw.line(screen, spear_color, (spear_x, spear_y), (spear_x, spear_y - spear_length), spear_thickness)\n",
    "\n",
    "    # Update display\n",
    "    pygame.display.flip()\n",
    "\n",
    "    # Cap the frame rate\n",
    "    clock.tick(30)\n",
    "\n",
    "# This code will create a window displaying a red spear pointing upwards. The spear's position is fixed in this example."
   ]
  },
  {
   "cell_type": "code",
   "execution_count": null,
   "metadata": {},
   "outputs": [],
   "source": []
  }
 ],
 "metadata": {
  "kernelspec": {
   "display_name": "Python 3",
   "language": "python",
   "name": "python3"
  },
  "language_info": {
   "codemirror_mode": {
    "name": "ipython",
    "version": 3
   },
   "file_extension": ".py",
   "mimetype": "text/x-python",
   "name": "python",
   "nbconvert_exporter": "python",
   "pygments_lexer": "ipython3",
   "version": "3.12.0"
  }
 },
 "nbformat": 4,
 "nbformat_minor": 2
}
